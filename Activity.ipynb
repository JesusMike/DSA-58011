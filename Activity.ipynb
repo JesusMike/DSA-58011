{
  "cells": [
    {
      "cell_type": "markdown",
      "metadata": {
        "id": "view-in-github",
        "colab_type": "text"
      },
      "source": [
        "<a href=\"https://colab.research.google.com/github/JesusMike/DSA-58011/blob/main/Activity.ipynb\" target=\"_parent\"><img src=\"https://colab.research.google.com/assets/colab-badge.svg\" alt=\"Open In Colab\"/></a>"
      ]
    },
    {
      "cell_type": "code",
      "execution_count": null,
      "metadata": {
        "colab": {
          "base_uri": "https://localhost:8080/"
        },
        "id": "m-VA4tzJX-ob",
        "outputId": "9ebc938e-4619-4820-997e-fcedef6be6d9"
      },
      "outputs": [
        {
          "name": "stdout",
          "output_type": "stream",
          "text": [
            "[1, 2, 3, 4, 5, 6, 7, 8, 9, 10]\n"
          ]
        }
      ],
      "source": [
        "Num = [1, 2, 3, 4, 5, 6, 7, 8, 9, 10]\n",
        "print(Num)"
      ]
    },
    {
      "cell_type": "code",
      "execution_count": null,
      "metadata": {
        "colab": {
          "base_uri": "https://localhost:8080/"
        },
        "id": "7wU9YxxaYlrc",
        "outputId": "b7ddda1d-9637-449f-f585-86bff057a0fc"
      },
      "outputs": [
        {
          "name": "stdout",
          "output_type": "stream",
          "text": [
            "New array: [1, 2, 3, 4, 5, 6, 7, 8, 9, 10, 11]\n"
          ]
        }
      ],
      "source": [
        "\n",
        "Num = [1, 2, 3, 4, 5, 6, 7, 8, 9, 10]\n",
        "Num.append(11)\n",
        "print(\"New array: \"+str(Num))"
      ]
    },
    {
      "cell_type": "code",
      "execution_count": null,
      "metadata": {
        "colab": {
          "base_uri": "https://localhost:8080/"
        },
        "id": "q6qGmKCzZNjs",
        "outputId": "af7d286d-6e01-4a0a-d10f-6ee040f55ef6"
      },
      "outputs": [
        {
          "name": "stdout",
          "output_type": "stream",
          "text": [
            "New array: [1, 11, 2, 3, 4, 5, 6, 7, 8, 9, 10]\n"
          ]
        }
      ],
      "source": [
        "\n",
        "Num = [1, 2, 3, 4, 5, 6, 7, 8, 9, 10]\n",
        "Num.insert(1, 11)\n",
        "print(\"New array: \"+str(Num))"
      ]
    },
    {
      "cell_type": "code",
      "execution_count": null,
      "metadata": {
        "colab": {
          "base_uri": "https://localhost:8080/"
        },
        "id": "gIUQnb-hV6n3",
        "outputId": "1bbed8c5-1072-45e5-9ab2-2396b3a9ff7e"
      },
      "outputs": [
        {
          "output_type": "stream",
          "name": "stdout",
          "text": [
            "[5, 4, 3, 2, 1]\n"
          ]
        }
      ],
      "source": [
        "\n",
        "Num = [1, 2, 3, 4, 5]\n",
        "Num.reverse()\n",
        "print(str(Num))"
      ]
    },
    {
      "cell_type": "code",
      "source": [
        "\n",
        "Num = [1, 2, 3, 4, 5]\n",
        "print(\"Length of the array is:\")\n",
        "print(len(Num))"
      ],
      "metadata": {
        "colab": {
          "base_uri": "https://localhost:8080/"
        },
        "id": "84V0ZwKJcSBo",
        "outputId": "0bfa4184-050a-448b-d8c1-02ef64521fb0"
      },
      "execution_count": null,
      "outputs": [
        {
          "output_type": "stream",
          "name": "stdout",
          "text": [
            "Length of the array is:\n",
            "5\n"
          ]
        }
      ]
    }
  ],
  "metadata": {
    "colab": {
      "provenance": [],
      "collapsed_sections": [],
      "toc_visible": true,
      "authorship_tag": "ABX9TyOrH1yfFBZCVA0uvQKxw1mm",
      "include_colab_link": true
    },
    "kernelspec": {
      "display_name": "Python 3",
      "name": "python3"
    },
    "language_info": {
      "name": "python"
    }
  },
  "nbformat": 4,
  "nbformat_minor": 0
}