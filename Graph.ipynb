{
  "nbformat": 4,
  "nbformat_minor": 0,
  "metadata": {
    "colab": {
      "provenance": [],
      "authorship_tag": "ABX9TyPGbjXTKMY5pJvCnnaJF6BY",
      "include_colab_link": true
    },
    "kernelspec": {
      "name": "python3",
      "display_name": "Python 3"
    },
    "language_info": {
      "name": "python"
    }
  },
  "cells": [
    {
      "cell_type": "markdown",
      "metadata": {
        "id": "view-in-github",
        "colab_type": "text"
      },
      "source": [
        "<a href=\"https://colab.research.google.com/github/JesusMike/DSA-58011/blob/main/Graph.ipynb\" target=\"_parent\"><img src=\"https://colab.research.google.com/assets/colab-badge.svg\" alt=\"Open In Colab\"/></a>"
      ]
    },
    {
      "cell_type": "code",
      "source": [
        "\n",
        "g20 = {'2':['1','4','3'], '3':['2','4'], '1':['4']}\n",
        "print(g20)\n",
        "\n",
        "V = {1,2,3,4}\n",
        "E= {'2': ['1', '4', '3'], '3': ['2', '4'], '1': ['4']}"
      ],
      "metadata": {
        "colab": {
          "base_uri": "https://localhost:8080/"
        },
        "id": "oje5s_M3jKMa",
        "outputId": "b36a8431-3758-4d36-a027-8102ce56f7d4"
      },
      "execution_count": null,
      "outputs": [
        {
          "output_type": "stream",
          "name": "stdout",
          "text": [
            "{'2': ['1', '4', '3'], '3': ['2', '4'], '1': ['4']}\n"
          ]
        }
      ]
    }
  ]
}