{
  "nbformat": 4,
  "nbformat_minor": 0,
  "metadata": {
    "colab": {
      "name": "ParticalLabExam.ipynb",
      "provenance": [],
      "authorship_tag": "ABX9TyP3tA1YWhuZWKoNSPScEPMs",
      "include_colab_link": true
    },
    "kernelspec": {
      "name": "python3",
      "display_name": "Python 3"
    },
    "language_info": {
      "name": "python"
    }
  },
  "cells": [
    {
      "cell_type": "markdown",
      "metadata": {
        "id": "view-in-github",
        "colab_type": "text"
      },
      "source": [
        "<a href=\"https://colab.research.google.com/github/JesusMike/DSA-58011/blob/main/ParticalLabExam.ipynb\" target=\"_parent\"><img src=\"https://colab.research.google.com/assets/colab-badge.svg\" alt=\"Open In Colab\"/></a>"
      ]
    },
    {
      "cell_type": "code",
      "source": [
        "lst = []\n",
        "total = 0\n",
        "num = int(input('How many scores to input: '))\n",
        "\n",
        "for n in range(num):\n",
        "    numbers = int(input('Enter score: '))\n",
        "    lst.append(numbers)\n",
        "\n",
        "for ele in range(0, len(lst)):\n",
        "\n",
        "  if ele%2:\n",
        "    total = total + lst[ele]\n",
        "\n",
        "\n",
        "print(\"The Sum of user input value is :\", total)"
      ],
      "metadata": {
        "colab": {
          "base_uri": "https://localhost:8080/"
        },
        "id": "J05Ha-2KD0c4",
        "outputId": "a9dc1766-c52c-4bb8-d00d-ced131dc0aff"
      },
      "execution_count": 31,
      "outputs": [
        {
          "output_type": "stream",
          "name": "stdout",
          "text": [
            "How many scores to input: 6\n",
            "Enter score: 26\n",
            "Enter score: 49\n",
            "Enter score: 98\n",
            "Enter score: 87\n",
            "Enter score: 62\n",
            "Enter score: 75\n",
            "The Sum of user input value is : 211\n"
          ]
        }
      ]
    }
  ]
}