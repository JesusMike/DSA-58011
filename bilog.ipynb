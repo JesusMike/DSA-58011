{
  "nbformat": 4,
  "nbformat_minor": 0,
  "metadata": {
    "colab": {
      "name": "bilog.ipynb",
      "provenance": [],
      "authorship_tag": "ABX9TyNZ97Gjdkic4Grq7MRrBITt",
      "include_colab_link": true
    },
    "kernelspec": {
      "name": "python3",
      "display_name": "Python 3"
    },
    "language_info": {
      "name": "python"
    }
  },
  "cells": [
    {
      "cell_type": "markdown",
      "metadata": {
        "id": "view-in-github",
        "colab_type": "text"
      },
      "source": [
        "<a href=\"https://colab.research.google.com/github/JesusMike/DSA-58011/blob/main/bilog.ipynb\" target=\"_parent\"><img src=\"https://colab.research.google.com/assets/colab-badge.svg\" alt=\"Open In Colab\"/></a>"
      ]
    },
    {
      "cell_type": "code",
      "source": [
        "class Circle:\n",
        "  def __init__ (self, r):\n",
        "    self.radius = r\n",
        "  def area(self):\n",
        "    return 3.14 * (self.radius * self.radius)\n",
        "\n",
        "obj = Circle(8)\n",
        "print(\"Area of Circle: \", obj.area()) "
      ],
      "metadata": {
        "colab": {
          "base_uri": "https://localhost:8080/"
        },
        "id": "J05Ha-2KD0c4",
        "outputId": "7ff9529b-7527-48f8-9757-1a4e324557ea"
      },
      "execution_count": 3,
      "outputs": [
        {
          "output_type": "stream",
          "name": "stdout",
          "text": [
            "Area of Circle:  200.96\n"
          ]
        }
      ]
    }
  ]
}